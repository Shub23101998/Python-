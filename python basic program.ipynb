{
  "nbformat": 4,
  "nbformat_minor": 0,
  "metadata": {
    "colab": {
      "provenance": [],
      "authorship_tag": "ABX9TyPNUXdBPZn1iH6UPchNd9KN",
      "include_colab_link": true
    },
    "kernelspec": {
      "name": "python3",
      "display_name": "Python 3"
    },
    "language_info": {
      "name": "python"
    }
  },
  "cells": [
    {
      "cell_type": "markdown",
      "metadata": {
        "id": "view-in-github",
        "colab_type": "text"
      },
      "source": [
        "<a href=\"https://colab.research.google.com/github/Shub23101998/Python-/blob/main/python%20basic%20program.ipynb\" target=\"_parent\"><img src=\"https://colab.research.google.com/assets/colab-badge.svg\" alt=\"Open In Colab\"/></a>"
      ]
    },
    {
      "cell_type": "markdown",
      "source": [
        "Loops"
      ],
      "metadata": {
        "id": "XfJKVkxApUEc"
      }
    },
    {
      "cell_type": "code",
      "source": [
        "#Q) Write a Program to dispaly *'s in Right Angled Triangled Form\n",
        "for i in range(6):\n",
        "  for j in range(i):\n",
        "    print(\"*\",end='   ')\n",
        "  print(\"\\n\") \n",
        "#  "
      ],
      "metadata": {
        "id": "kuNzG3IUpe6J"
      },
      "execution_count": null,
      "outputs": []
    },
    {
      "cell_type": "code",
      "source": [
        "#Q) Python program to print all the even numbers within the given range\n",
        "\n",
        "number=range(int(input(\"enter a 1st no\")),int(input(\"enter a last no\")))\n",
        "for i in number:\n",
        "  if i%2==0:\n",
        "    print(i)"
      ],
      "metadata": {
        "id": "TvMeaN3JpjBR"
      },
      "execution_count": null,
      "outputs": []
    },
    {
      "cell_type": "code",
      "source": [
        "\n",
        "#avrage value of numbers\n",
        "sum=0\n",
        "i=10\n",
        "while i>0:\n",
        "  print(\"enter a number\")\n",
        "  num=int(input())\n",
        "  sum+=num\n",
        "  i-=1\n",
        "print(\"avrage value\",sum/10.0) "
      ],
      "metadata": {
        "id": "XFjfJUEYpl6h"
      },
      "execution_count": null,
      "outputs": []
    },
    {
      "cell_type": "code",
      "source": [
        "\n",
        "i=1\n",
        "j=2\n",
        "while i>=1:\n",
        "  print(\" \"*j+\"*\"*i+\" \"*j)\n",
        "  i+=2\n",
        "  j-=1\n",
        "  if i>5:\n",
        "    break\n",
        "i=3\n",
        "j=1    \n",
        "while i>=1:\n",
        "   print(\" \"*j+\"*\"*i+\" \"*j)\n",
        "   i-=2\n",
        "   j+=1    \n",
        "     "
      ],
      "metadata": {
        "colab": {
          "base_uri": "https://localhost:8080/"
        },
        "id": "jjomMbPuprlh",
        "outputId": "97da4a04-99a1-42e4-87dd-6936b5f56252"
      },
      "execution_count": 1,
      "outputs": [
        {
          "output_type": "stream",
          "name": "stdout",
          "text": [
            "  *  \n",
            " *** \n",
            "*****\n",
            " *** \n",
            "  *  \n"
          ]
        }
      ]
    }
  ]
}