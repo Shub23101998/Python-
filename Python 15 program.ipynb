{
  "nbformat": 4,
  "nbformat_minor": 0,
  "metadata": {
    "colab": {
      "provenance": [],
      "authorship_tag": "ABX9TyOGx4ScHCAQWIKu5m8WB54p",
      "include_colab_link": true
    },
    "kernelspec": {
      "name": "python3",
      "display_name": "Python 3"
    },
    "language_info": {
      "name": "python"
    }
  },
  "cells": [
    {
      "cell_type": "markdown",
      "metadata": {
        "id": "view-in-github",
        "colab_type": "text"
      },
      "source": [
        "<a href=\"https://colab.research.google.com/github/Shub23101998/Python-/blob/main/Python%2015%20program.ipynb\" target=\"_parent\"><img src=\"https://colab.research.google.com/assets/colab-badge.svg\" alt=\"Open In Colab\"/></a>"
      ]
    },
    {
      "cell_type": "code",
      "execution_count": null,
      "metadata": {
        "id": "CmFLijQZujOC"
      },
      "outputs": [],
      "source": [
        "# 1) Maximum of two numbers in Python\n",
        "a=int(input(\"enter 1st no \"))\n",
        "b=int(input(\"enter 2nd n0 \"))\n",
        "if a>b:\n",
        "  print(\"the gretter no is \",a)\n",
        "elif a==b:\n",
        "  print(\"both are equal\")  \n",
        "else:\n",
        "  print(\"the gretter no is\",b)  \n",
        "#or\n",
        "x=(a if a>=b else b)\n",
        "print(\"maximum number is\",x)"
      ]
    },
    {
      "cell_type": "code",
      "source": [
        "\n",
        "# 2) Python program to add two numbers\n",
        "num1=int(input(\"enter num1 \"))\n",
        "num2=int(input(\"enter num2 \"))\n",
        "#adding two number\n",
        "sum=num1+num2\n",
        "print(\"the sum of two numbers is\",sum)\n",
        "     "
      ],
      "metadata": {
        "id": "JPUJmhbMup6M"
      },
      "execution_count": null,
      "outputs": []
    },
    {
      "cell_type": "code",
      "source": [
        "\n",
        "# 3) Python Program for factorial of a number\n",
        "import math\n",
        "x=int(input(\"enter a number\"))\n",
        "math.factorial(x)\n",
        "     "
      ],
      "metadata": {
        "id": "OQlKg-Z_uuJW"
      },
      "execution_count": null,
      "outputs": []
    },
    {
      "cell_type": "code",
      "source": [
        "\n",
        "# 4) Python Program for simple interest\n",
        "p=int(input(\"enter a principal ammount :\"))\n",
        "t=int(input(\"enter a time period :\" ))\n",
        "r=int(input(\"enter a rate of intest :\" ))\n",
        "\n",
        "#for simple intrset p*t*r/100\n",
        "si=p*t*r/100\n",
        "print(\"the simple intrest is :\",si)\n",
        "     "
      ],
      "metadata": {
        "id": "SCSPhU4qux0C"
      },
      "execution_count": null,
      "outputs": []
    },
    {
      "cell_type": "code",
      "source": [
        "\n",
        "# 6) Python Program to check Armstrong Number\n",
        "n=int(input(\"enter a number\"))\n",
        "x=n\n",
        "a=len(str(n))\n",
        "sum=0\n",
        "while n!=0:\n",
        "  b=n%10\n",
        "  sum=sum+(b**a)\n",
        "  n=n//10\n",
        "if sum==x:\n",
        "  print(\"enterd number\",x,\"is a armstrong number\")\n",
        "else:\n",
        "  print(\"enterd number\",x,\"is not a armstrong number\")  \n",
        "     "
      ],
      "metadata": {
        "colab": {
          "base_uri": "https://localhost:8080/"
        },
        "id": "A_8OUwL-wIpW",
        "outputId": "f0137570-6c7e-4077-fe2c-427425697d06"
      },
      "execution_count": 6,
      "outputs": [
        {
          "output_type": "stream",
          "name": "stdout",
          "text": [
            "enter a number7\n",
            "enterd number 7 is a armstrong number\n"
          ]
        }
      ]
    },
    {
      "cell_type": "code",
      "source": [
        "\n",
        "# 7) Python Program for Program to find area of a circle\n",
        "import math\n",
        "r=int(input(\"enter a redius of circle:\"))\n",
        "#to find area of circle\n",
        "area=math.pi*r*r\n",
        "print(area)"
      ],
      "metadata": {
        "colab": {
          "base_uri": "https://localhost:8080/"
        },
        "id": "xaYNqGiCwNmT",
        "outputId": "a9d618e1-0e5c-4c8e-ecd4-8bc3d91ee4c8"
      },
      "execution_count": 7,
      "outputs": [
        {
          "output_type": "stream",
          "name": "stdout",
          "text": [
            "enter a redius of circle:7\n",
            "153.93804002589985\n"
          ]
        }
      ]
    },
    {
      "cell_type": "code",
      "source": [
        "\n",
        "# 8) Python Program to Print all Prime Numbers in an Interval\n",
        "l=int(input())\n",
        "u=int(input())\n",
        "\n",
        "print(\"prime numbers between \" ,l,\"and\",u,\"are\")\n",
        "\n",
        "for num in range(l,u+1):\n",
        "  if num>1:\n",
        "    for i in range(2,num):\n",
        "      if (num%i)==0:\n",
        "        break\n",
        "    else:\n",
        "      print(num)"
      ],
      "metadata": {
        "colab": {
          "base_uri": "https://localhost:8080/"
        },
        "id": "kqntwV8KwZe2",
        "outputId": "ed261fda-c692-4b96-874e-2b8e71b074de"
      },
      "execution_count": 8,
      "outputs": [
        {
          "output_type": "stream",
          "name": "stdout",
          "text": [
            "5\n",
            "10\n",
            "prime numbers between  5 and 10 are\n",
            "5\n",
            "7\n"
          ]
        }
      ]
    },
    {
      "cell_type": "code",
      "source": [
        "\n",
        "# 9) Python Program to cheak number is Prime Number or not?\n",
        "num=int(input(\"enter your number: \"))\n",
        "flag=False\n",
        "\n",
        "if num>1:\n",
        "  for i in range(2,num):\n",
        "    if (num%i)==0:\n",
        "      flag=True\n",
        "      break\n",
        "\n",
        "if flag:\n",
        "  print(\"your no is not prime number\")\n",
        "else:\n",
        "  print(\"your no is prime number\")"
      ],
      "metadata": {
        "id": "tRMhMFHowhtL"
      },
      "execution_count": null,
      "outputs": []
    },
    {
      "cell_type": "code",
      "source": [
        "\n",
        "# 10) Python Program to Print the Fibonacci sequence\n",
        "num=int(input(\"enter nth number\"))\n",
        "a=0\n",
        "b=1\n",
        "count=0\n",
        "if num<=0:\n",
        "  print(\"please enter possitive number\")\n",
        "elif num==1:\n",
        "  print(num-1)\n",
        "else:\n",
        "  while count\n"
      ],
      "metadata": {
        "id": "5RVt8CR0wkYZ"
      },
      "execution_count": null,
      "outputs": []
    },
    {
      "cell_type": "code",
      "source": [
        "\n",
        "# 11) program to print ASCII value of a character\n",
        "s=input(\"enter acharacter:\")\n",
        "print(\"the ACSII value of \"+ s +\" is\",ord(s))\n",
        "     "
      ],
      "metadata": {
        "id": "YzxrQ8oZwnhK"
      },
      "execution_count": null,
      "outputs": []
    },
    {
      "cell_type": "code",
      "source": [
        "\n",
        "# 12) python program for print square of n natural numbers\n",
        "\n",
        "sum=0\n",
        "for i in range(1,10):\n",
        "  sum=sum+(i*i)\n",
        "print(sum)  \n",
        "     "
      ],
      "metadata": {
        "id": "kXs1RDVrwpx4"
      },
      "execution_count": null,
      "outputs": []
    },
    {
      "cell_type": "code",
      "source": [
        "\n",
        "# 13) python program for print cubes of n natural numbers\n",
        "num=int(input(\"enter a number \"))\n",
        "sum=0\n",
        "i=1\n",
        "while i<=num:\n",
        "  sum=sum+(i**3)\n",
        "  i+=1\n",
        "print(\"the sum of cubes of natural numbers are \",sum)  "
      ],
      "metadata": {
        "id": "Fhj6EFLDwsGp"
      },
      "execution_count": null,
      "outputs": []
    }
  ]
}