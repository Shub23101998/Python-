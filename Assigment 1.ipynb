{
  "nbformat": 4,
  "nbformat_minor": 0,
  "metadata": {
    "colab": {
      "provenance": [],
      "toc_visible": true,
      "authorship_tag": "ABX9TyMGoBZDsFxzq+KTytCSMp+2",
      "include_colab_link": true
    },
    "kernelspec": {
      "name": "python3",
      "display_name": "Python 3"
    },
    "language_info": {
      "name": "python"
    }
  },
  "cells": [
    {
      "cell_type": "markdown",
      "metadata": {
        "id": "view-in-github",
        "colab_type": "text"
      },
      "source": [
        "<a href=\"https://colab.research.google.com/github/Shub23101998/Python-/blob/main/Assigment%201.ipynb\" target=\"_parent\"><img src=\"https://colab.research.google.com/assets/colab-badge.svg\" alt=\"Open In Colab\"/></a>"
      ]
    },
    {
      "cell_type": "code",
      "execution_count": null,
      "metadata": {
        "id": "rhIViUbylvOO"
      },
      "outputs": [],
      "source": []
    },
    {
      "cell_type": "markdown",
      "source": [
        "Problem 1\n",
        "In a cricket tournament, based on the outcome of a particular match a team gets following points:\n",
        "\n",
        "wins gets 3 points\n",
        "draws gets 1 points\n",
        "losses gets 0 points\n",
        "Team Aravali plays 8 matches in this tournament. It wins 4 matches, loses 3 matches and draws 1. What is the total number of points gained by the Team Aravali?"
      ],
      "metadata": {
        "id": "-710SR2glwm_"
      }
    },
    {
      "cell_type": "code",
      "source": [
        "win = int(input(\"Enter the number of win matchts\"))\n",
        "draws = int(input(\"nteer the numbr of deaws matches\"))\n",
        "loss = int(input(\"nter th numbr o loss matches\"))\n",
        "\n",
        "i = win*3\n",
        "points = i+loss\n",
        "print(points)"
      ],
      "metadata": {
        "colab": {
          "base_uri": "https://localhost:8080/"
        },
        "id": "xSqDRyZ2lyyD",
        "outputId": "b342e16d-cc2b-49bf-f43c-740e423bf671"
      },
      "execution_count": null,
      "outputs": [
        {
          "output_type": "stream",
          "name": "stdout",
          "text": [
            "Enter the number of win matchts4\n",
            "nteer the numbr of deaws matches1\n",
            "nter th numbr o loss matches3\n",
            "15\n"
          ]
        }
      ]
    },
    {
      "cell_type": "markdown",
      "source": [
        "Problem 2\n",
        "Root of a function  is defined as the value  where \n",
        "Consider a quadratic function \n",
        "Find the value of the function  at points ."
      ],
      "metadata": {
        "id": "u2_HzxyL_0Kt"
      }
    },
    {
      "cell_type": "markdown",
      "source": [
        "i = int(input(\"Enter the value\")\n",
        "i=i*2+(i*3)-4\n",
        "print(i)"
      ],
      "metadata": {
        "id": "Ur6ShgvQ_2cK"
      }
    },
    {
      "cell_type": "code",
      "source": [
        "\n",
        "i = int(input(\"Enter the value\"))\n",
        "j = i*2+(i*3)-4\n",
        "print(j)\n",
        "if (j%i== 0):\n",
        "  print(\"True\")\n",
        "else:\n",
        "  print(\"False\")\n",
        "\n"
      ],
      "metadata": {
        "colab": {
          "base_uri": "https://localhost:8080/"
        },
        "id": "NXaRRT49BKka",
        "outputId": "2d177cba-05f5-442d-9600-5906e1afc91b"
      },
      "execution_count": null,
      "outputs": [
        {
          "output_type": "stream",
          "name": "stdout",
          "text": [
            "Enter the value-1\n",
            "-9\n",
            "True\n"
          ]
        }
      ]
    },
    {
      "cell_type": "markdown",
      "source": [
        "apple = int(input(\"Enter the number of apple\"))\n",
        "orange = int(input(\"Enter the number of orange\"))\n",
        "banana = int(input(\"Enter the number of banana\"))\n"
      ],
      "metadata": {
        "id": "F75vt_1HIppg"
      }
    },
    {
      "cell_type": "code",
      "source": [
        "apple = int(input(\"Enter the number of apple\"))\n",
        "orange = int(input(\"Enter the number of orange\"))\n",
        "banana = int(input(\"Enter the number of banana\"))\n",
        "sum = apple+orange+banana\n",
        "#to find the perentag of apple\n",
        "i=apple/sum*100\n",
        "print(\"percentage of apple\",i)\n",
        "#to find the perentag of orange\n",
        "i= orange/sum*100\n",
        "print(\"percentage of orange\",i)\n",
        "#to find the perentag of banana\n",
        "i= banana/sum*100\n",
        "print(\"percentage of banana\",i)"
      ],
      "metadata": {
        "colab": {
          "base_uri": "https://localhost:8080/"
        },
        "id": "vcRsLuJPIrCN",
        "outputId": "b49af1a8-9427-47fe-ac96-1e22556405f0"
      },
      "execution_count": null,
      "outputs": [
        {
          "output_type": "stream",
          "name": "stdout",
          "text": [
            "Enter the number of apple45\n",
            "Enter the number of orange65\n",
            "Enter the number of banana20\n",
            "percentage of apple 34.61538461538461\n",
            "percentage of orange 50.0\n",
            "percentage of banana 15.384615384615385\n"
          ]
        }
      ]
    },
    {
      "cell_type": "markdown",
      "source": [
        "Problem 4\n",
        "You were playing a fun guessing game during your school break. There were a total of 100 participants excluding you. Out of these 100 people, 30 were Maths Majors, 45 were Economics Majors and 25 were Physics Majors.\n",
        "\n",
        "The game was divided into three rounds.\n",
        "\n",
        "In the first round, you had to guess the number of Maths Majors and you correctly guessed 20 of them.\n",
        "In the second round, you had to guess the number of Economics Majors and you correctly guessed 30 of them.\n",
        "In the final third round, you had to guess the number of Physics Majors and you correctly guessed 20 of them.\n",
        "Accuracy is defined as the number of correct guesses upon total number of people in the group (expressed in percentage)\n",
        "Define your variables"
      ],
      "metadata": {
        "id": "H43oD66vLlk_"
      }
    },
    {
      "cell_type": "code",
      "source": [
        "# Store the number of Maths majors\n",
        "maths_majors=30\n",
        "\n",
        "\n",
        "# Store the number of Economics majors\n",
        "economics_majors=45\n",
        "\n",
        "# Store the number of Physics majors\n",
        "\n",
        "physics_majors=25\n",
        "# Store the number of your correct guesses of Maths majors\n",
        "maths_majors_correct=20\n",
        "\n",
        "# Store the number of your correct guesses of Economics majors\n",
        "economics_majors_correct=30\n",
        "\n",
        "# Store the number of your correct guesses of Physics majors\n",
        "physics_majors_correct=20\n",
        "\n",
        "# Print the Maths accuracy\n",
        "#maths_majors_correct/maths_majors * 100\n",
        "\n",
        "# Print the Economics accuracy\n",
        "economics_majors_correct/economics_majors * 100"
      ],
      "metadata": {
        "colab": {
          "base_uri": "https://localhost:8080/"
        },
        "id": "IotR22owLsU_",
        "outputId": "59cbb8c0-233b-48d4-9852-107b326e1a26"
      },
      "execution_count": null,
      "outputs": [
        {
          "output_type": "execute_result",
          "data": {
            "text/plain": [
              "66.66666666666666"
            ]
          },
          "metadata": {},
          "execution_count": 25
        }
      ]
    }
  ]
}